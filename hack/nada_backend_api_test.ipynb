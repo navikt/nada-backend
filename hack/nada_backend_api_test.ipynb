{
 "cells": [
  {
   "cell_type": "code",
   "execution_count": 5,
   "metadata": {},
   "outputs": [],
   "source": [
    "import requests"
   ]
  },
  {
   "cell_type": "code",
   "execution_count": null,
   "metadata": {},
   "outputs": [],
   "source": [
    "url = \"https://nada.dev.intern.nav.no\"\n",
    "# url = \"http://localhost:8080\""
   ]
  },
  {
   "cell_type": "code",
   "execution_count": 7,
   "metadata": {},
   "outputs": [
    {
     "data": {
      "text/plain": [
       "{'created': '2021-10-04T06:41:59.098444Z',\n",
       " 'id': '9551daf2-5714-4a8e-af1a-3919ce18233c',\n",
       " 'keywords': None,\n",
       " 'last_modified': '2021-10-04T06:41:59.098444Z',\n",
       " 'name': 'mitt dataprodukt',\n",
       " 'owner': {'team': 'dataplattform'},\n",
       " 'slug': 'mitt%20dataprodukt'}"
      ]
     },
     "execution_count": 7,
     "metadata": {},
     "output_type": "execute_result"
    }
   ],
   "source": [
    "# Create dataproduct\n",
    "res = requests.post(f\"{url}/api/dataproducts\", json={\n",
    "    \"name\": \"mitt dataprodukt\",\n",
    "    \"owner\": {\n",
    "        \"team\": \"dataplattform\"\n",
    "    }\n",
    "})\n",
    "dp_id = res.json()[\"id\"]\n",
    "res.json()"
   ]
  },
  {
   "cell_type": "code",
   "execution_count": 8,
   "metadata": {},
   "outputs": [
    {
     "data": {
      "text/plain": [
       "{'created': '2021-10-04T06:41:59.098444Z',\n",
       " 'id': '9551daf2-5714-4a8e-af1a-3919ce18233c',\n",
       " 'keywords': None,\n",
       " 'last_modified': '2021-10-04T06:42:34.493002Z',\n",
       " 'name': 'oppdatert dataprodukt',\n",
       " 'owner': {'team': 'dataplattform'},\n",
       " 'slug': 'oppdatert%20dataprodukt'}"
      ]
     },
     "execution_count": 8,
     "metadata": {},
     "output_type": "execute_result"
    }
   ],
   "source": [
    "# Update dataproduct\n",
    "res = requests.put(f\"{url}/api/dataproducts/{dp_id}\", json={\n",
    "    \"name\": \"oppdatert dataprodukt\",\n",
    "    \"owner\": {\n",
    "        \"team\": \"dataplattform\"\n",
    "    }\n",
    "})\n",
    "dp_id = res.json()[\"id\"]\n",
    "res.json()"
   ]
  },
  {
   "cell_type": "code",
   "execution_count": 10,
   "metadata": {},
   "outputs": [
    {
     "data": {
      "text/plain": [
       "{'bigquery': {'dataset': 'ereg',\n",
       "  'project_id': 'dataplattform-dev-9da3',\n",
       "  'table': 'ereg'},\n",
       " 'dataproduct_id': '9551daf2-5714-4a8e-af1a-3919ce18233c',\n",
       " 'description': 'Dette er mitt datasett',\n",
       " 'id': 'b227ee64-8322-43aa-aa66-7ce15e3f0fa0',\n",
       " 'name': 'Mitt datasett',\n",
       " 'pii': True}"
      ]
     },
     "execution_count": 10,
     "metadata": {},
     "output_type": "execute_result"
    }
   ],
   "source": [
    "# Create dataset\n",
    "res = requests.post(f\"{url}/api/datasets\", json={\n",
    "    \"name\": \"Mitt datasett\",\n",
    "      \"description\": \"Dette er mitt datasett\",\n",
    "  \"pii\": True,\n",
    "  \"dataproduct_id\": f\"{dp_id}\",\n",
    "  \"bigquery\": {\n",
    "    \"project_id\": \"dataplattform-dev-9da3\",\n",
    "    \"dataset\": \"ereg\",\n",
    "    \"table\": \"ereg\"\n",
    "  }\n",
    "})\n",
    "ds_id = res.json()[\"id\"]\n",
    "res.json()"
   ]
  },
  {
   "cell_type": "code",
   "execution_count": 24,
   "metadata": {},
   "outputs": [
    {
     "data": {
      "text/plain": [
       "{'bigquery': {'dataset': 'string', 'project_id': 'string', 'table': 'string'},\n",
       " 'dataproduct_id': 'feb20dca-453f-4066-9b11-10253e5aa466',\n",
       " 'description': 'string',\n",
       " 'id': 'c4df3613-882f-45c2-aac6-494df84398f1',\n",
       " 'name': 'newname',\n",
       " 'pii': True}"
      ]
     },
     "execution_count": 24,
     "metadata": {},
     "output_type": "execute_result"
    }
   ],
   "source": [
    "# Update dataset\n",
    "res = requests.put(f\"{url}/api/datasets/{ds_id}\", json={\n",
    "    \"name\": \"newname\",\n",
    "      \"description\": \"string\",\n",
    "  \"pii\": True,\n",
    "    \"dataproduct_id\": dp_id,\n",
    "  \"bigquery\": {\n",
    "    \"project_id\": \"string\",\n",
    "    \"dataset\": \"string\",\n",
    "    \"table\": \"string\"\n",
    "  }\n",
    "})\n",
    "res.json()"
   ]
  },
  {
   "cell_type": "code",
   "execution_count": 25,
   "metadata": {},
   "outputs": [
    {
     "data": {
      "text/plain": [
       "<Response [204]>"
      ]
     },
     "execution_count": 25,
     "metadata": {},
     "output_type": "execute_result"
    }
   ],
   "source": [
    "# Delete dataset\n",
    "res = requests.delete(f\"{url}/api/datasets/{ds_id}\")\n",
    "res"
   ]
  },
  {
   "cell_type": "code",
   "execution_count": 26,
   "metadata": {},
   "outputs": [
    {
     "data": {
      "text/plain": [
       "<Response [204]>"
      ]
     },
     "execution_count": 26,
     "metadata": {},
     "output_type": "execute_result"
    }
   ],
   "source": [
    "res = requests.delete(f\"{url}/api/dataproducts/{dp_id}\")\n",
    "res"
   ]
  },
  {
   "cell_type": "code",
   "execution_count": null,
   "metadata": {},
   "outputs": [],
   "source": []
  }
 ],
 "metadata": {
  "kernelspec": {
   "display_name": "Python 3",
   "language": "python",
   "name": "python3"
  },
  "language_info": {
   "codemirror_mode": {
    "name": "ipython",
    "version": 3
   },
   "file_extension": ".py",
   "mimetype": "text/x-python",
   "name": "python",
   "nbconvert_exporter": "python",
   "pygments_lexer": "ipython3",
   "version": "3.7.6"
  }
 },
 "nbformat": 4,
 "nbformat_minor": 4
}
