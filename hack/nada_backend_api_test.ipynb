{
 "cells": [
  {
   "cell_type": "code",
   "execution_count": 21,
   "metadata": {},
   "outputs": [],
   "source": [
    "import requests"
   ]
  },
  {
   "cell_type": "code",
   "execution_count": 22,
   "metadata": {},
   "outputs": [
    {
     "data": {
      "text/plain": [
       "{'created': '2021-10-01T12:44:07.817085Z',\n",
       " 'id': 'feb20dca-453f-4066-9b11-10253e5aa466',\n",
       " 'keywords': None,\n",
       " 'last_modified': '2021-10-01T12:44:07.817085Z',\n",
       " 'name': 'string',\n",
       " 'owner': {'team': 'team'},\n",
       " 'slug': 'string'}"
      ]
     },
     "execution_count": 22,
     "metadata": {},
     "output_type": "execute_result"
    }
   ],
   "source": [
    "# Create dataset\n",
    "res = requests.post(\"http://localhost:8080/api/dataproducts\", json={\n",
    "    \"name\": \"string\",\n",
    "    \"owner\": {\n",
    "        \"team\": \"team\"\n",
    "    }\n",
    "})\n",
    "dp_id = res.json()[\"id\"]\n",
    "res.json()"
   ]
  },
  {
   "cell_type": "code",
   "execution_count": 23,
   "metadata": {},
   "outputs": [
    {
     "data": {
      "text/plain": [
       "{'bigquery': {'dataset': 'string', 'project_id': 'string', 'table': 'string'},\n",
       " 'dataproduct_id': 'feb20dca-453f-4066-9b11-10253e5aa466',\n",
       " 'description': 'string',\n",
       " 'id': 'c4df3613-882f-45c2-aac6-494df84398f1',\n",
       " 'name': 'string',\n",
       " 'pii': True}"
      ]
     },
     "execution_count": 23,
     "metadata": {},
     "output_type": "execute_result"
    }
   ],
   "source": [
    "# Create dataset\n",
    "res = requests.post(\"http://localhost:8080/api/datasets\", json={\n",
    "    \"name\": \"string\",\n",
    "      \"description\": \"string\",\n",
    "  \"pii\": True,\n",
    "  \"dataproduct_id\": f\"{dp_id}\",\n",
    "  \"bigquery\": {\n",
    "    \"project_id\": \"string\",\n",
    "    \"dataset\": \"string\",\n",
    "    \"table\": \"string\"\n",
    "  }\n",
    "})\n",
    "ds_id = res.json()[\"id\"]\n",
    "res.json()"
   ]
  },
  {
   "cell_type": "code",
   "execution_count": 24,
   "metadata": {},
   "outputs": [
    {
     "data": {
      "text/plain": [
       "{'bigquery': {'dataset': 'string', 'project_id': 'string', 'table': 'string'},\n",
       " 'dataproduct_id': 'feb20dca-453f-4066-9b11-10253e5aa466',\n",
       " 'description': 'string',\n",
       " 'id': 'c4df3613-882f-45c2-aac6-494df84398f1',\n",
       " 'name': 'newname',\n",
       " 'pii': True}"
      ]
     },
     "execution_count": 24,
     "metadata": {},
     "output_type": "execute_result"
    }
   ],
   "source": [
    "# Update dataset\n",
    "res = requests.put(f\"http://localhost:8080/api/datasets/{ds_id}\", json={\n",
    "    \"name\": \"newname\",\n",
    "      \"description\": \"string\",\n",
    "  \"pii\": True,\n",
    "    \"dataproduct_id\": dp_id,\n",
    "  \"bigquery\": {\n",
    "    \"project_id\": \"string\",\n",
    "    \"dataset\": \"string\",\n",
    "    \"table\": \"string\"\n",
    "  }\n",
    "})\n",
    "res.json()"
   ]
  },
  {
   "cell_type": "code",
   "execution_count": 25,
   "metadata": {},
   "outputs": [
    {
     "data": {
      "text/plain": [
       "<Response [204]>"
      ]
     },
     "execution_count": 25,
     "metadata": {},
     "output_type": "execute_result"
    }
   ],
   "source": [
    "# Delete dataset\n",
    "res = requests.delete(f\"http://localhost:8080/api/datasets/{ds_id}\")\n",
    "res"
   ]
  },
  {
   "cell_type": "code",
   "execution_count": 26,
   "metadata": {},
   "outputs": [
    {
     "data": {
      "text/plain": [
       "<Response [204]>"
      ]
     },
     "execution_count": 26,
     "metadata": {},
     "output_type": "execute_result"
    }
   ],
   "source": [
    "res = requests.delete(f\"http://localhost:8080/api/dataproducts/{dp_id}\")\n",
    "res"
   ]
  },
  {
   "cell_type": "code",
   "execution_count": null,
   "metadata": {},
   "outputs": [],
   "source": []
  }
 ],
 "metadata": {
  "kernelspec": {
   "display_name": "Python 3",
   "language": "python",
   "name": "python3"
  },
  "language_info": {
   "codemirror_mode": {
    "name": "ipython",
    "version": 3
   },
   "file_extension": ".py",
   "mimetype": "text/x-python",
   "name": "python",
   "nbconvert_exporter": "python",
   "pygments_lexer": "ipython3",
   "version": "3.7.6"
  }
 },
 "nbformat": 4,
 "nbformat_minor": 4
}
