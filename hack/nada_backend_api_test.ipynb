{
 "cells": [
  {
   "cell_type": "code",
   "execution_count": 26,
   "metadata": {},
   "outputs": [],
   "source": [
    "import requests"
   ]
  },
  {
   "cell_type": "code",
   "execution_count": 27,
   "metadata": {},
   "outputs": [],
   "source": [
    "#url = \"https://nada.dev.intern.nav.no\"\n",
    "url = \"http://localhost:8080\""
   ]
  },
  {
   "cell_type": "code",
   "execution_count": 28,
   "metadata": {},
   "outputs": [
    {
     "data": {
      "text/plain": [
       "{'created': '2021-10-08T14:06:56.739103Z',\n",
       " 'datasets': None,\n",
       " 'id': '2f71631b-164f-4a61-8145-ad1722afbb98',\n",
       " 'keywords': None,\n",
       " 'last_modified': '2021-10-08T14:06:56.739103Z',\n",
       " 'name': 'mitt dataprodukt',\n",
       " 'owner': {'team': 'aura'},\n",
       " 'slug': 'mitt%20dataprodukt'}"
      ]
     },
     "execution_count": 28,
     "metadata": {},
     "output_type": "execute_result"
    }
   ],
   "source": [
    "# Create dataproduct\n",
    "res = requests.post(f\"{url}/api/dataproducts\", json={\n",
    "    \"name\": \"mitt dataprodukt\",\n",
    "    \"owner\": {\n",
    "        \"team\": \"aura\"\n",
    "    }\n",
    "})\n",
    "dp_id = res.json()[\"id\"]\n",
    "res.json()"
   ]
  },
  {
   "cell_type": "code",
   "execution_count": 29,
   "metadata": {},
   "outputs": [
    {
     "data": {
      "text/plain": [
       "{'created': '2021-10-08T14:06:56.739103Z',\n",
       " 'datasets': None,\n",
       " 'id': '2f71631b-164f-4a61-8145-ad1722afbb98',\n",
       " 'keywords': None,\n",
       " 'last_modified': '2021-10-08T14:06:59.842399Z',\n",
       " 'name': 'oppdatert dataprodukt',\n",
       " 'owner': {'team': 'aura'},\n",
       " 'slug': 'oppdatert%20dataprodukt'}"
      ]
     },
     "execution_count": 29,
     "metadata": {},
     "output_type": "execute_result"
    }
   ],
   "source": [
    "# Update dataproduct\n",
    "res = requests.put(f\"{url}/api/dataproducts/{dp_id}\", json={\n",
    "    \"name\": \"oppdatert dataprodukt\",\n",
    "    \"owner\": {\n",
    "        \"team\": \"aura\"\n",
    "    }\n",
    "})\n",
    "dp_id = res.json()[\"id\"]\n",
    "res.json()"
   ]
  },
  {
   "cell_type": "code",
   "execution_count": 30,
   "metadata": {},
   "outputs": [
    {
     "data": {
      "text/plain": [
       "{'bigquery': {'dataset': 'container_resource_usage',\n",
       "  'project_id': 'aura-dev-d9f5',\n",
       "  'table': 'data'},\n",
       " 'dataproduct_id': '2f71631b-164f-4a61-8145-ad1722afbb98',\n",
       " 'description': 'Dette er mitt datasett',\n",
       " 'id': '30652642-9601-4aeb-b75b-4c8f4ac0ba35',\n",
       " 'name': 'Mitt datasett',\n",
       " 'pii': True}"
      ]
     },
     "execution_count": 30,
     "metadata": {},
     "output_type": "execute_result"
    }
   ],
   "source": [
    "# Create dataset\n",
    "res = requests.post(f\"{url}/api/datasets\", json={\n",
    "    \"name\": \"Mitt datasett\",\n",
    "      \"description\": \"Dette er mitt datasett\",\n",
    "  \"pii\": True,\n",
    "  \"dataproduct_id\": f\"{dp_id}\",\n",
    "  \"bigquery\": {\n",
    "    \"project_id\": \"aura-dev-d9f5\",\n",
    "    \"dataset\": \"container_resource_usage\",\n",
    "    \"table\": \"data\"\n",
    "  }\n",
    "})\n",
    "ds_id = res.json()[\"id\"]\n",
    "res.json()"
   ]
  },
  {
   "cell_type": "code",
   "execution_count": 24,
   "metadata": {},
   "outputs": [
    {
     "data": {
      "text/plain": [
       "{'bigquery': {'dataset': 'string', 'project_id': 'string', 'table': 'string'},\n",
       " 'dataproduct_id': 'feb20dca-453f-4066-9b11-10253e5aa466',\n",
       " 'description': 'string',\n",
       " 'id': 'c4df3613-882f-45c2-aac6-494df84398f1',\n",
       " 'name': 'newname',\n",
       " 'pii': True}"
      ]
     },
     "execution_count": 24,
     "metadata": {},
     "output_type": "execute_result"
    }
   ],
   "source": [
    "# Update dataset\n",
    "res = requests.put(f\"{url}/api/datasets/{ds_id}\", json={\n",
    "    \"name\": \"newname\",\n",
    "      \"description\": \"string\",\n",
    "  \"pii\": True,\n",
    "    \"dataproduct_id\": dp_id,\n",
    "  \"bigquery\": {\n",
    "    \"project_id\": \"string\",\n",
    "    \"dataset\": \"string\",\n",
    "    \"table\": \"string\"\n",
    "  }\n",
    "})\n",
    "res.json()"
   ]
  },
  {
   "cell_type": "code",
   "execution_count": 37,
   "metadata": {},
   "outputs": [
    {
     "data": {
      "text/plain": [
       "<Response [204]>"
      ]
     },
     "execution_count": 37,
     "metadata": {},
     "output_type": "execute_result"
    }
   ],
   "source": [
    "# Delete dataset\n",
    "\n",
    "id=\"5df7d8d2-ad01-44d4-86ea-e8c84b9e1a5f\"\n",
    "#res = requests.delete(f\"{url}/api/datasets/{ds_id}\")\n",
    "res = requests.delete(f\"{url}/api/datasets/{id}\")\n",
    "res"
   ]
  },
  {
   "cell_type": "code",
   "execution_count": 26,
   "metadata": {},
   "outputs": [
    {
     "data": {
      "text/plain": [
       "<Response [204]>"
      ]
     },
     "execution_count": 26,
     "metadata": {},
     "output_type": "execute_result"
    }
   ],
   "source": [
    "res = requests.delete(f\"{url}/api/dataproducts/{dp_id}\")\n",
    "res"
   ]
  },
  {
   "cell_type": "code",
   "execution_count": 36,
   "metadata": {},
   "outputs": [
    {
     "data": {
      "text/plain": [
       "[{'created': '2021-10-08T14:06:56.739103Z',\n",
       "  'datasets': [{'id': '30652642-9601-4aeb-b75b-4c8f4ac0ba35',\n",
       "    'name': 'Mitt datasett',\n",
       "    'type': 'bigquery'}],\n",
       "  'id': '2f71631b-164f-4a61-8145-ad1722afbb98',\n",
       "  'keywords': None,\n",
       "  'last_modified': '2021-10-08T14:06:59.842399Z',\n",
       "  'name': 'oppdatert dataprodukt',\n",
       "  'owner': {'team': 'aura'},\n",
       "  'slug': 'oppdatert%20dataprodukt'},\n",
       " {'created': '2021-10-08T13:37:52.159133Z',\n",
       "  'datasets': [{'id': '5df7d8d2-ad01-44d4-86ea-e8c84b9e1a5f',\n",
       "    'name': 'Mitt datasett',\n",
       "    'type': 'bigquery'}],\n",
       "  'id': '48dc3537-1c5f-4107-ab2e-1ea30b1baa2f',\n",
       "  'keywords': None,\n",
       "  'last_modified': '2021-10-08T13:37:53.022712Z',\n",
       "  'name': 'oppdatert dataprodukt',\n",
       "  'owner': {'team': 'dataplattform'},\n",
       "  'slug': 'oppdatert%20dataprodukt'},\n",
       " {'created': '2021-10-08T13:36:19.96045Z',\n",
       "  'datasets': [],\n",
       "  'id': '4236bd29-a5b2-4911-98ab-b013d97fdaa9',\n",
       "  'keywords': None,\n",
       "  'last_modified': '2021-10-08T13:36:19.96045Z',\n",
       "  'name': 'mitt dataprodukt',\n",
       "  'owner': {'team': 'dataplattform'},\n",
       "  'slug': 'mitt%20dataprodukt'},\n",
       " {'created': '2021-10-08T13:34:38.040305Z',\n",
       "  'datasets': [],\n",
       "  'id': 'a9a09f32-05f3-4c61-876f-5a4b3ddb864d',\n",
       "  'keywords': None,\n",
       "  'last_modified': '2021-10-08T13:34:38.97178Z',\n",
       "  'name': 'oppdatert dataprodukt',\n",
       "  'owner': {'team': 'dataplattform'},\n",
       "  'slug': 'oppdatert%20dataprodukt'},\n",
       " {'created': '2021-10-08T13:32:47.021867Z',\n",
       "  'datasets': [],\n",
       "  'id': 'ca258584-3215-40dd-ba5a-db2b7afe0114',\n",
       "  'keywords': None,\n",
       "  'last_modified': '2021-10-08T13:32:51.58881Z',\n",
       "  'name': 'oppdatert dataprodukt',\n",
       "  'owner': {'team': 'team'},\n",
       "  'slug': 'oppdatert%20dataprodukt'}]"
      ]
     },
     "execution_count": 36,
     "metadata": {},
     "output_type": "execute_result"
    }
   ],
   "source": [
    "res = requests.get(f\"{url}/api/dataproducts\")\n",
    "res.json()"
   ]
  },
  {
   "cell_type": "code",
   "execution_count": null,
   "metadata": {},
   "outputs": [],
   "source": []
  },
  {
   "cell_type": "code",
   "execution_count": null,
   "metadata": {},
   "outputs": [],
   "source": []
  }
 ],
 "metadata": {
  "kernelspec": {
   "display_name": "Python 3 (ipykernel)",
   "language": "python",
   "name": "python3"
  },
  "language_info": {
   "codemirror_mode": {
    "name": "ipython",
    "version": 3
   },
   "file_extension": ".py",
   "mimetype": "text/x-python",
   "name": "python",
   "nbconvert_exporter": "python",
   "pygments_lexer": "ipython3",
   "version": "3.9.1"
  }
 },
 "nbformat": 4,
 "nbformat_minor": 4
}
